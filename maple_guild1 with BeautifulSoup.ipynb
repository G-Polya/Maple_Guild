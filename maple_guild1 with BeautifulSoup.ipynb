{
 "cells": [
  {
   "cell_type": "code",
   "execution_count": 1,
   "metadata": {},
   "outputs": [],
   "source": [
    "import requests\n",
    "from bs4 import BeautifulSoup"
   ]
  },
  {
   "cell_type": "code",
   "execution_count": 2,
   "metadata": {},
   "outputs": [],
   "source": [
    "# guild_name = input(\"길드 이름을 입력하세요: \")\n",
    "# server = input(\"서버 이름을 입력하세요: \")\n",
    "\n",
    "guild_name = \"Alpha\"\n",
    "server = \"croa\"\n",
    "levels = []\n",
    "members = []\n",
    "dojangs = []\n",
    "jobs = []"
   ]
  },
  {
   "cell_type": "markdown",
   "metadata": {},
   "source": [
    "- 크로아 Alpha의 경우: maple.gg/guild/croa/Alpha\n",
    "- 스카니아 잉잉의 경우: maple.gg/guild/scania/잉잉"
   ]
  },
  {
   "cell_type": "code",
   "execution_count": 3,
   "metadata": {},
   "outputs": [],
   "source": [
    "response = requests.get(\"https://maple.gg/\"+server+\"/\"+guild_name)\n",
    "html = BeautifulSoup(response.text,\"html.parser\")"
   ]
  },
  {
   "cell_type": "code",
   "execution_count": 4,
   "metadata": {},
   "outputs": [
    {
     "data": {
      "text/plain": [
       "[]"
      ]
     },
     "execution_count": 4,
     "metadata": {},
     "output_type": "execute_result"
    }
   ],
   "source": [
    "member_name = html.select(\"div.mb-2 a.font-size-14\")\n",
    "member_name"
   ]
  },
  {
   "cell_type": "code",
   "execution_count": null,
   "metadata": {},
   "outputs": [],
   "source": [
    "div.member-grade-content a.font-size-14\n",
    "div.mb-2 a.font-size-14"
   ]
  },
  {
   "cell_type": "code",
   "execution_count": null,
   "metadata": {},
   "outputs": [],
   "source": [
    "member_container = html.select(\"section.pt-2\")\n",
    "member_container"
   ]
  },
  {
   "cell_type": "markdown",
   "metadata": {},
   "source": [
    "- maple.gg/u/안나"
   ]
  },
  {
   "cell_type": "code",
   "execution_count": 7,
   "metadata": {},
   "outputs": [
    {
     "name": "stdout",
     "output_type": "stream",
     "text": [
      "262 비숍\n"
     ]
    }
   ],
   "source": [
    "#길드 검색해서 길드원 목록가져오기\n",
    "member_response = requests.get(\"https://maple.gg/u/안나\")\n",
    "member_html = BeautifulSoup(member_response.text,\"html.parser\")\n",
    "level = member_html.select(\"div.user-summary li.user-summary-item\")[0].text[-3:]\n",
    "job =member_html.select(\"div.user-summary li.user-summary-item\")[1].text\n",
    "print(level, job)"
   ]
  },
  {
   "cell_type": "code",
   "execution_count": null,
   "metadata": {},
   "outputs": [],
   "source": [
    "levels"
   ]
  },
  {
   "cell_type": "code",
   "execution_count": null,
   "metadata": {},
   "outputs": [],
   "source": [
    "jobs"
   ]
  },
  {
   "cell_type": "code",
   "execution_count": null,
   "metadata": {},
   "outputs": [],
   "source": [
    "search_box = driver.find_element_by_name(\"q\")\n",
    "search_box.send_keys(members[0])\n"
   ]
  },
  {
   "cell_type": "code",
   "execution_count": null,
   "metadata": {},
   "outputs": [],
   "source": [
    "\n",
    "search_button = driver.find_element_by_css_selector(\"i.fa-search\")\n",
    "search_button.click()\n",
    "# driver.implicitly_wait(5)"
   ]
  },
  {
   "cell_type": "code",
   "execution_count": null,
   "metadata": {},
   "outputs": [],
   "source": [
    "\n",
    "member_button = driver.find_elements_by_css_selector(\"div.search-result__item\")[0]\n",
    "member_button.click()\n",
    "\n",
    "# driver.implicitly_wait(5)"
   ]
  },
  {
   "cell_type": "code",
   "execution_count": null,
   "metadata": {},
   "outputs": [],
   "source": [
    "level = int(driver.find_elements_by_css_selector(\"li.user-summary-item\")[0].text[-3:])\n",
    "level"
   ]
  },
  {
   "cell_type": "code",
   "execution_count": null,
   "metadata": {},
   "outputs": [],
   "source": [
    "job = driver.find_elements_by_css_selector(\"li.user-summary-item\")[1].text\n",
    "job"
   ]
  },
  {
   "cell_type": "code",
   "execution_count": null,
   "metadata": {},
   "outputs": [],
   "source": [
    "dojang = int(driver.find_elements_by_css_selector(\"h1.user-summary-floor\")[0].text[-4:-2])\n",
    "print(0, members[0], dojang)"
   ]
  },
  {
   "cell_type": "code",
   "execution_count": null,
   "metadata": {
    "scrolled": true
   },
   "outputs": [],
   "source": [
    "from selenium.common.exceptions import NoSuchElementException\n",
    "\n",
    "for i in range(len(members)):\n",
    "    try:\n",
    "        search_box = driver.find_element_by_name(\"q\")\n",
    "       \n",
    "        search_box.send_keys(members[i])\n",
    "    \n",
    "        search_button = driver.find_element_by_css_selector(\"i.fa-search\")\n",
    "        search_button.click()\n",
    "        driver.implicitly_wait(1)\n",
    "        \n",
    "        member_button = driver.find_elements_by_css_selector(\"div.search-result__item\")[0]\n",
    "        member_button.click()\n",
    "    \n",
    "    \n",
    "        dojang = int(driver.find_elements_by_css_selector(\"h1.user-summary-floor\")[0].text[-4:-2])\n",
    "        print(i, members[i], dojang)\n",
    "        dojangs.append(dojang)\n",
    "        \n",
    "    # 검색시 바로 캐릭터로 이동하는 경우\n",
    "    except IndexError:\n",
    "        try:\n",
    "            dojang = int(driver.find_elements_by_css_selector(\"h1.user-summary-floor\")[0].text[-4:-2])\n",
    "            print(i,members[i], dojang)\n",
    "            dojangs.append(dojang)\n",
    "        \n",
    "        # 무릉이 없는데 예전 무릉기록은 있음\n",
    "        except IndexError:\n",
    "            try:\n",
    "                dojang = int(driver.find_element_by_css_selector(\"div.old-dojang\").text[-3:-1])\n",
    "                print(i,members[i], dojang)\n",
    "                dojangs.append(dojang)\n",
    "        \n",
    "            # 무릉자체가 없음\n",
    "            except NoSuchElementException:\n",
    "                dojang = 0\n",
    "                print(i,members[i], dojang)\n",
    "                dojangs.append(dojang)\n",
    "        \n",
    "    except NoSuchElementException:\n",
    "            dojang = 0\n",
    "            print(i,members[i], dojang)\n",
    "            dojangs.append(dojang)\n",
    "        \n",
    "    \n",
    "    \n",
    "        \n",
    "        \n",
    "    \n",
    "  "
   ]
  },
  {
   "cell_type": "markdown",
   "metadata": {},
   "source": [
    "닉네임검색은 url상으로 maple.gg/u/안나 이런식으로 이루어진다. 이를 이용해서 셀레니움이 아닌 BeautifulSoup을 이용해서 할수도 있을듯."
   ]
  },
  {
   "cell_type": "code",
   "execution_count": null,
   "metadata": {},
   "outputs": [],
   "source": [
    "import pandas as pd"
   ]
  },
  {
   "cell_type": "code",
   "execution_count": null,
   "metadata": {},
   "outputs": [],
   "source": [
    "df = pd.DataFrame({\n",
    "    \"member\" : members,\n",
    "    \"level\" : level,\n",
    "    \"dojang\" : dojangs\n",
    "})\n",
    "\n",
    "df[df[\"dojang\"] == 0]"
   ]
  },
  {
   "cell_type": "code",
   "execution_count": null,
   "metadata": {},
   "outputs": [],
   "source": []
  }
 ],
 "metadata": {
  "kernelspec": {
   "display_name": "Python 3",
   "language": "python",
   "name": "python3"
  },
  "language_info": {
   "codemirror_mode": {
    "name": "ipython",
    "version": 3
   },
   "file_extension": ".py",
   "mimetype": "text/x-python",
   "name": "python",
   "nbconvert_exporter": "python",
   "pygments_lexer": "ipython3",
   "version": "3.7.3"
  }
 },
 "nbformat": 4,
 "nbformat_minor": 2
}
