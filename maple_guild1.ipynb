{
 "cells": [
  {
   "cell_type": "code",
   "execution_count": 1,
   "metadata": {},
   "outputs": [],
   "source": [
    "from selenium import webdriver\n"
   ]
  },
  {
   "cell_type": "code",
   "execution_count": 2,
   "metadata": {},
   "outputs": [
    {
     "name": "stdout",
     "output_type": "stream",
     "text": [
      "길드 이름을 입력하세요: Alpha\n",
      "서버 이름을 입력하세요: 크로아\n"
     ]
    }
   ],
   "source": [
    "guild_name = input(\"길드 이름을 입력하세요: \")\n",
    "server = input(\"서버 이름을 입력하세요: \")\n",
    "level = []\n",
    "member = []\n"
   ]
  },
  {
   "cell_type": "code",
   "execution_count": 3,
   "metadata": {},
   "outputs": [],
   "source": [
    "driver = webdriver.Chrome(\"chromedriver\")"
   ]
  },
  {
   "cell_type": "code",
   "execution_count": 4,
   "metadata": {},
   "outputs": [],
   "source": [
    "driver.get(\"https://maple.gg/\")\n"
   ]
  },
  {
   "cell_type": "code",
   "execution_count": 5,
   "metadata": {},
   "outputs": [],
   "source": [
    "search_box = driver.find_element_by_name(\"q\")"
   ]
  },
  {
   "cell_type": "code",
   "execution_count": 6,
   "metadata": {},
   "outputs": [],
   "source": [
    "search_box.send_keys(guild_name)"
   ]
  },
  {
   "cell_type": "code",
   "execution_count": 7,
   "metadata": {},
   "outputs": [],
   "source": [
    "search_button = driver.find_element_by_css_selector(\"i.fa-search\")\n",
    "search_button.click()"
   ]
  },
  {
   "cell_type": "code",
   "execution_count": 8,
   "metadata": {},
   "outputs": [],
   "source": [
    "guilds = driver.find_elements_by_css_selector(\"div.col-12\")"
   ]
  },
  {
   "cell_type": "code",
   "execution_count": 9,
   "metadata": {},
   "outputs": [],
   "source": [
    "# 이 부분 일반적이게 변경\n",
    "driver.implicitly_wait(10)\n",
    "# guild[0]을 변경해야함. 지금은 길드중에서 첫번째 길드만을 가져옴\n",
    "finded_server = guilds[0].find_element_by_css_selector(\"div.search-result__item\")\n",
    "guild_server = finded_server.find_element_by_css_selector(\"b.font-size-14\").text\n",
    "\n",
    "\n",
    "if guild_server == server: #길드가 있는 서버와 검색한 서버가 같으면\n",
    "    guild_button = driver.find_element_by_css_selector(\"div.col-12\")\n",
    "    guild_button.click()\n",
    "    driver.implicitly_wait(5)\n",
    "    numberOfMember = driver.find_elements_by_css_selector(\"div.col-lg-25 span\")\n",
    "    numberOfMember = int(numberOfMember[3].text[-4:-1])\n",
    "    \n",
    "    #길드원 container col-lg-3 col-md-6 col-sm-6 mt-4\n",
    "    guild_member = driver.find_elements_by_css_selector(\"div.col-lg-3\")\n",
    "    \n",
    "    for i in range(numberOfMember):\n",
    "        guild_member_name = guild_member[i].find_element_by_css_selector(\"div.mb-2 a.font-size-14\")\n",
    "        guild_member_level = guild_member[i].find_element_by_css_selector(\"div.mb-2 span.font-size-12\")\n",
    "        member.append(guild_member_name.text)\n",
    "        level.append(int(guild_member_level.text[-3:]))\n",
    "    \n",
    "    \n",
    "    "
   ]
  },
  {
   "cell_type": "code",
   "execution_count": 10,
   "metadata": {},
   "outputs": [],
   "source": [
    "import numpy as np\n",
    "import pandas as pd\n",
    "\n",
    "guild_df = pd.DataFrame({\n",
    "    \"닉네임\" : member,\n",
    "    \"레벨\": level\n",
    "})\n",
    "\n"
   ]
  },
  {
   "cell_type": "code",
   "execution_count": 11,
   "metadata": {},
   "outputs": [
    {
     "data": {
      "text/html": [
       "<div>\n",
       "<style scoped>\n",
       "    .dataframe tbody tr th:only-of-type {\n",
       "        vertical-align: middle;\n",
       "    }\n",
       "\n",
       "    .dataframe tbody tr th {\n",
       "        vertical-align: top;\n",
       "    }\n",
       "\n",
       "    .dataframe thead th {\n",
       "        text-align: right;\n",
       "    }\n",
       "</style>\n",
       "<table border=\"1\" class=\"dataframe\">\n",
       "  <thead>\n",
       "    <tr style=\"text-align: right;\">\n",
       "      <th></th>\n",
       "      <th>닉네임</th>\n",
       "      <th>레벨</th>\n",
       "    </tr>\n",
       "  </thead>\n",
       "  <tbody>\n",
       "    <tr>\n",
       "      <td>0</td>\n",
       "      <td>안나</td>\n",
       "      <td>262</td>\n",
       "    </tr>\n",
       "    <tr>\n",
       "      <td>1</td>\n",
       "      <td>Noble</td>\n",
       "      <td>275</td>\n",
       "    </tr>\n",
       "    <tr>\n",
       "      <td>2</td>\n",
       "      <td>놈현</td>\n",
       "      <td>266</td>\n",
       "    </tr>\n",
       "    <tr>\n",
       "      <td>3</td>\n",
       "      <td>렛잇고</td>\n",
       "      <td>257</td>\n",
       "    </tr>\n",
       "    <tr>\n",
       "      <td>4</td>\n",
       "      <td>쌍도</td>\n",
       "      <td>256</td>\n",
       "    </tr>\n",
       "    <tr>\n",
       "      <td>...</td>\n",
       "      <td>...</td>\n",
       "      <td>...</td>\n",
       "    </tr>\n",
       "    <tr>\n",
       "      <td>194</td>\n",
       "      <td>복매제</td>\n",
       "      <td>221</td>\n",
       "    </tr>\n",
       "    <tr>\n",
       "      <td>195</td>\n",
       "      <td>알롱쿤</td>\n",
       "      <td>215</td>\n",
       "    </tr>\n",
       "    <tr>\n",
       "      <td>196</td>\n",
       "      <td>일도스키</td>\n",
       "      <td>213</td>\n",
       "    </tr>\n",
       "    <tr>\n",
       "      <td>197</td>\n",
       "      <td>로제</td>\n",
       "      <td>208</td>\n",
       "    </tr>\n",
       "    <tr>\n",
       "      <td>198</td>\n",
       "      <td>초비</td>\n",
       "      <td>206</td>\n",
       "    </tr>\n",
       "  </tbody>\n",
       "</table>\n",
       "<p>199 rows × 2 columns</p>\n",
       "</div>"
      ],
      "text/plain": [
       "       닉네임   레벨\n",
       "0       안나  262\n",
       "1    Noble  275\n",
       "2       놈현  266\n",
       "3      렛잇고  257\n",
       "4       쌍도  256\n",
       "..     ...  ...\n",
       "194    복매제  221\n",
       "195    알롱쿤  215\n",
       "196   일도스키  213\n",
       "197     로제  208\n",
       "198     초비  206\n",
       "\n",
       "[199 rows x 2 columns]"
      ]
     },
     "execution_count": 11,
     "metadata": {},
     "output_type": "execute_result"
    }
   ],
   "source": [
    "guild_df"
   ]
  },
  {
   "cell_type": "code",
   "execution_count": 12,
   "metadata": {},
   "outputs": [
    {
     "data": {
      "text/plain": [
       "레벨    240.396985\n",
       "dtype: float64"
      ]
     },
     "execution_count": 12,
     "metadata": {},
     "output_type": "execute_result"
    }
   ],
   "source": [
    "guild_df.mean()"
   ]
  }
 ],
 "metadata": {
  "kernelspec": {
   "display_name": "Python 3",
   "language": "python",
   "name": "python3"
  },
  "language_info": {
   "codemirror_mode": {
    "name": "ipython",
    "version": 3
   },
   "file_extension": ".py",
   "mimetype": "text/x-python",
   "name": "python",
   "nbconvert_exporter": "python",
   "pygments_lexer": "ipython3",
   "version": "3.7.3"
  }
 },
 "nbformat": 4,
 "nbformat_minor": 2
}
