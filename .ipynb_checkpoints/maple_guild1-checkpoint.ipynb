{
 "cells": [
  {
   "cell_type": "code",
   "execution_count": 1,
   "metadata": {},
   "outputs": [],
   "source": [
    "from selenium import webdriver\n"
   ]
  },
  {
   "cell_type": "code",
   "execution_count": 2,
   "metadata": {},
   "outputs": [],
   "source": [
    "# guild_name = input(\"길드 이름을 입력하세요: \")\n",
    "# server = input(\"서버 이름을 입력하세요: \")\n",
    "\n",
    "guild_name = \"Alpha\"\n",
    "server = \"크로아\"\n",
    "levels = []\n",
    "members = []\n",
    "dojangs = []\n",
    "jobs = []"
   ]
  },
  {
   "cell_type": "code",
   "execution_count": 3,
   "metadata": {},
   "outputs": [],
   "source": [
    "driver = webdriver.Chrome(\"chromedriver\")"
   ]
  },
  {
   "cell_type": "code",
   "execution_count": 4,
   "metadata": {},
   "outputs": [],
   "source": [
    "driver.get(\"https://maple.gg/\")\n"
   ]
  },
  {
   "cell_type": "code",
   "execution_count": 5,
   "metadata": {},
   "outputs": [],
   "source": [
    "search_box = driver.find_element_by_name(\"q\")"
   ]
  },
  {
   "cell_type": "code",
   "execution_count": 6,
   "metadata": {},
   "outputs": [],
   "source": [
    "search_box.send_keys(guild_name)"
   ]
  },
  {
   "cell_type": "code",
   "execution_count": 7,
   "metadata": {},
   "outputs": [],
   "source": [
    "search_button = driver.find_element_by_css_selector(\"i.fa-search\")\n",
    "search_button.click()"
   ]
  },
  {
   "cell_type": "code",
   "execution_count": 8,
   "metadata": {},
   "outputs": [],
   "source": [
    "guilds = driver.find_elements_by_css_selector(\"div.col-12\")"
   ]
  },
  {
   "cell_type": "code",
   "execution_count": 9,
   "metadata": {},
   "outputs": [],
   "source": [
    "# 이 부분 일반적이게 변경\n",
    "driver.implicitly_wait(10)\n",
    "# guild[0]을 변경해야함. 지금은 길드중에서 첫번째 길드만을 가져옴\n",
    "finded_server = guilds[0].find_element_by_css_selector(\"div.search-result__item\")\n",
    "guild_server = finded_server.find_element_by_css_selector(\"b.font-size-14\").text\n",
    "\n",
    "\n",
    "if guild_server == server: #길드가 있는 서버와 검색한 서버가 같으면\n",
    "    guild_button = driver.find_element_by_css_selector(\"div.col-12\")\n",
    "    guild_button.click()\n",
    "    driver.implicitly_wait(5)\n",
    "    numberOfMember = driver.find_elements_by_css_selector(\"div.col-lg-25 span\")\n",
    "    numberOfMember = int(numberOfMember[3].text[-4:-1])\n",
    "    \n",
    "    #길드원 container col-lg-3 col-md-6 col-sm-6 mt-4\n",
    "    guild_member = driver.find_elements_by_css_selector(\"div.col-lg-3\")\n",
    "    \n",
    "    for i in range(numberOfMember):\n",
    "        guild_member_name = guild_member[i].find_element_by_css_selector(\"div.mb-2 a.font-size-14\")\n",
    "        guild_member_level = guild_member[i].find_element_by_css_selector(\"div.mb-2 span.font-size-12\")\n",
    "        members.append(guild_member_name.text)\n",
    "        levels.append(int(guild_member_level.text[-3:]))\n",
    "    \n",
    "    \n",
    "    "
   ]
  },
  {
   "cell_type": "code",
   "execution_count": 16,
   "metadata": {},
   "outputs": [],
   "source": [
    "search_box = driver.find_element_by_name(\"q\")\n",
    "search_box.send_keys(members[0])\n"
   ]
  },
  {
   "cell_type": "code",
   "execution_count": 17,
   "metadata": {},
   "outputs": [],
   "source": [
    "\n",
    "search_button = driver.find_element_by_css_selector(\"i.fa-search\")\n",
    "search_button.click()\n",
    "# driver.implicitly_wait(5)"
   ]
  },
  {
   "cell_type": "code",
   "execution_count": 18,
   "metadata": {},
   "outputs": [],
   "source": [
    "\n",
    "member_button = driver.find_elements_by_css_selector(\"div.search-result__item\")[0]\n",
    "member_button.click()\n",
    "\n",
    "# driver.implicitly_wait(5)"
   ]
  },
  {
   "cell_type": "code",
   "execution_count": 23,
   "metadata": {},
   "outputs": [
    {
     "data": {
      "text/plain": [
       "262"
      ]
     },
     "execution_count": 23,
     "metadata": {},
     "output_type": "execute_result"
    }
   ],
   "source": [
    "level = int(driver.find_elements_by_css_selector(\"li.user-summary-item\")[0].text[-3:])\n",
    "level"
   ]
  },
  {
   "cell_type": "code",
   "execution_count": 24,
   "metadata": {},
   "outputs": [
    {
     "data": {
      "text/plain": [
       "'비숍'"
      ]
     },
     "execution_count": 24,
     "metadata": {},
     "output_type": "execute_result"
    }
   ],
   "source": [
    "job = driver.find_elements_by_css_selector(\"li.user-summary-item\")[1].text\n",
    "job"
   ]
  },
  {
   "cell_type": "code",
   "execution_count": 19,
   "metadata": {},
   "outputs": [
    {
     "name": "stdout",
     "output_type": "stream",
     "text": [
      "0 안나 49\n"
     ]
    }
   ],
   "source": [
    "dojang = int(driver.find_elements_by_css_selector(\"h1.user-summary-floor\")[0].text[-4:-2])\n",
    "print(0, members[0], dojang)"
   ]
  },
  {
   "cell_type": "code",
   "execution_count": 14,
   "metadata": {
    "scrolled": true
   },
   "outputs": [
    {
     "name": "stdout",
     "output_type": "stream",
     "text": [
      "0 안나 49\n",
      "1 Noble 11\n",
      "2 놈현 59\n",
      "3 렛잇고 12\n",
      "4 쌍도 55\n",
      "5 Xeru 53\n",
      "6 신캐리 48\n",
      "7 우평화 54\n",
      "8 수면 52\n",
      "9 사기캐 53\n",
      "10 야갤 59\n",
      "11 결정체 49\n",
      "12 씨쿠쿵 51\n",
      "13 여고생재윤이 52\n",
      "14 꽁꽁찌릿 52\n",
      "15 떡마나 49\n",
      "16 의가사빌런 49\n",
      "17 덤퀀 48\n",
      "18 이나경짱 0\n",
      "19 블랙미스티 54\n",
      "20 은빈 50\n",
      "21 절망뿅 49\n",
      "22 하젤 50\n",
      "23 현량방정 49\n",
      "24 박근령 52\n",
      "25 댕댕물개 47\n",
      "26 야릇해 11\n",
      "27 테러비터 52\n",
      "28 십봉 51\n",
      "29 김기 47\n",
      "30 입대천사 49\n",
      "31 아이짜아 48\n",
      "32 김혼밥 50\n",
      "33 동글강아지 44\n",
      "34 커여운람지 49\n",
      "35 토익 50\n",
      "36 최다애 54\n",
      "37 파보오오니 0\n",
      "38 때애엑 50\n",
      "39 축구나 47\n",
      "40 박왕호 10\n",
      "41 Privacy 48\n",
      "42 별이댁 42\n",
      "43 Bless 47\n",
      "44 샐기 0\n",
      "45 xzyxyzyxz 0\n",
      "46 아름답고굵은 0\n",
      "47 JuneBro 0\n",
      "48 델쁨 0\n",
      "49 김그린클럽 0\n",
      "50 덤비면원콤 0\n",
      "51 사각이 0\n",
      "52 Holy 0\n",
      "53 썬갤 0\n",
      "54 DearM00n 0\n",
      "55 URISS 0\n",
      "56 먼미래바이퍼 0\n",
      "57 노현무 0\n",
      "58 빗자루샤프 0\n",
      "59 신초랑 37\n",
      "60 떨었다 47\n",
      "61 순두킹 48\n",
      "62 젼돤 49\n",
      "63 주구마 47\n",
      "64 랑글이 12\n",
      "65 상남준혁 56\n",
      "66 중력절 49\n",
      "67 끅끅끅끅 49\n",
      "68 말랑쫄깃 0\n",
      "69 마인하이네 48\n",
      "70 늘찬란한 45\n",
      "71 도가 43\n",
      "72 가쿠생 0\n",
      "73 너무마힛허 48\n",
      "74 메소를새비지 2\n",
      "75 서늘 41\n",
      "76 Parkhyunsoo 23\n",
      "77 뿔테 47\n",
      "78 하늘아른거린 0\n",
      "79 네코레기 45\n",
      "80 나비는야옹 34\n",
      "81 히키소녀 48\n",
      "82 밤비버섯 45\n",
      "83 량모 42\n",
      "84 엿막어는반사 41\n",
      "85 Mangsat 0\n",
      "86 룰리 13\n",
      "87 여기있냥 48\n",
      "88 중뽕 10\n",
      "89 하등종족노바 21\n",
      "90 곧떡락할캐릭 47\n",
      "91 출시 41\n",
      "92 구비 48\n",
      "93 보닌쟝 47\n",
      "94 Xazu 46\n",
      "95 Vigilnate 43\n",
      "96 소마재원zZ 45\n",
      "97 키스하기싫어 46\n",
      "98 뎃콥 45\n",
      "99 싸늘한단검 44\n",
      "100 Everest 46\n",
      "101 빻은정 39\n",
      "102 유정재 50\n",
      "103 긁적긁적어딜 45\n",
      "104 겨울루비 44\n",
      "105 검고곡 49\n",
      "106 오디오트랙 1\n",
      "107 Cross 0\n",
      "108 서리밀 45\n",
      "109 PromiseMe 43\n",
      "110 야구카 45\n",
      "111 적폐바이퍼 43\n",
      "112 그래픽아트77 43\n",
      "113 제너럴퐁 45\n",
      "114 Kikubaqudha 0\n",
      "115 세최나 46\n",
      "116 미하일투명 42\n",
      "117 충신패파 45\n",
      "118 작열소라빵 44\n",
      "119 Hexa 45\n",
      "120 DOMINI0N 10\n",
      "121 랑능이 46\n",
      "122 랑아일체 2\n",
      "123 별과야자수 19\n",
      "124 때리지마아영 44\n",
      "125 광진구문지기 42\n",
      "126 강력살균력 43\n",
      "127 찐교기 42\n",
      "128 채퍼린 10\n",
      "129 Razah 10\n",
      "130 비묘선 43\n",
      "131 플삐니 11\n",
      "132 모링 33\n",
      "133 아니요싫어 38\n",
      "134 이고 42\n",
      "135 사파에 46\n",
      "136 예술은폭동 47\n",
      "137 벨파댄스 46\n",
      "138 부성초일짱 48\n",
      "139 크림혼합 45\n",
      "140 잼붕이 42\n",
      "141 오세아노 39\n",
      "142 상덕동 42\n",
      "143 조시모스 0\n",
      "144 윈브이뻐요 43\n",
      "145 장전매콤주먹 19\n",
      "146 혜리너무 45\n",
      "147 폭도 43\n",
      "148 마칭밴드 44\n",
      "149 IT는노노 43\n",
      "150 크로아선발대 45\n",
      "151 핫도그선장 42\n",
      "152 릴리몬 41\n",
      "153 수능왕 37\n",
      "154 지존대거 10\n",
      "155 운엉자 43\n",
      "156 섹시유혹태오 43\n",
      "157 GLaDo5 37\n",
      "158 리응제 10\n",
      "159 알비요 37\n",
      "160 잔다르크 40\n",
      "161 지강새 45\n",
      "162 SHISHAMO 0\n",
      "163 챗이 10\n",
      "164 주근깨17만장 37\n",
      "165 나원흠 20\n",
      "166 최유나짱짱걸 43\n",
      "167 원더 0\n",
      "168 동도담 41\n",
      "169 마치프 42\n",
      "170 PAKA 0\n",
      "171 거미퀸 38\n",
      "172 야코바 11\n",
      "173 17명지 2\n",
      "174 딱바기 0\n",
      "175 캐리 0\n",
      "176 피예슬 45\n",
      "177 옥수 16\n",
      "178 유선장 37\n",
      "179 갓냥2 0\n",
      "180 메가추 43\n",
      "181 크쏠 41\n",
      "182 소보루조강현 0\n",
      "183 캘리앤 30\n",
      "184 PsychicYuko 33\n",
      "185 EIodie 1\n",
      "186 박하얀 29\n",
      "187 계율 0\n",
      "188 료비수 43\n",
      "189 아비꼬 0\n",
      "190 활활노릇 41\n",
      "191 복매제 0\n",
      "192 신념포기 38\n",
      "193 능뫼 28\n",
      "194 Mianta2 0\n",
      "195 알롱쿤 0\n",
      "196 일도스키 6\n",
      "197 로제 0\n",
      "198 초비 0\n"
     ]
    }
   ],
   "source": [
    "from selenium.common.exceptions import NoSuchElementException\n",
    "\n",
    "for i in range(len(members)):\n",
    "    try:\n",
    "        search_box = driver.find_element_by_name(\"q\")\n",
    "       \n",
    "        search_box.send_keys(members[i])\n",
    "    \n",
    "        search_button = driver.find_element_by_css_selector(\"i.fa-search\")\n",
    "        search_button.click()\n",
    "        driver.implicitly_wait(1)\n",
    "        \n",
    "        member_button = driver.find_elements_by_css_selector(\"div.search-result__item\")[0]\n",
    "        member_button.click()\n",
    "    \n",
    "    \n",
    "        dojang = int(driver.find_elements_by_css_selector(\"h1.user-summary-floor\")[0].text[-4:-2])\n",
    "        print(i, members[i], dojang)\n",
    "        dojangs.append(dojang)\n",
    "        \n",
    "    # 검색시 바로 캐릭터로 이동하는 경우\n",
    "    except IndexError:\n",
    "        try:\n",
    "            dojang = int(driver.find_elements_by_css_selector(\"h1.user-summary-floor\")[0].text[-4:-2])\n",
    "            print(i,members[i], dojang)\n",
    "            dojangs.append(dojang)\n",
    "        \n",
    "        # 무릉이 없는데 예전 무릉기록은 있음\n",
    "        except IndexError:\n",
    "            try:\n",
    "                dojang = int(driver.find_element_by_css_selector(\"div.old-dojang\").text[-3:-1])\n",
    "                print(i,members[i], dojang)\n",
    "                dojangs.append(dojang)\n",
    "        \n",
    "            # 무릉자체가 없음\n",
    "            except NoSuchElementException:\n",
    "                dojang = 0\n",
    "                print(i,members[i], dojang)\n",
    "                dojangs.append(dojang)\n",
    "        \n",
    "    except NoSuchElementException:\n",
    "            dojang = 0\n",
    "            print(i,members[i], dojang)\n",
    "            dojangs.append(dojang)\n",
    "        \n",
    "    \n",
    "    \n",
    "        \n",
    "        \n",
    "    \n",
    "  "
   ]
  },
  {
   "cell_type": "code",
   "execution_count": 15,
   "metadata": {},
   "outputs": [
    {
     "ename": "NameError",
     "evalue": "name 'div' is not defined",
     "output_type": "error",
     "traceback": [
      "\u001b[1;31m---------------------------------------------------------------------------\u001b[0m",
      "\u001b[1;31mNameError\u001b[0m                                 Traceback (most recent call last)",
      "\u001b[1;32m<ipython-input-15-1ed7f9c6e8ba>\u001b[0m in \u001b[0;36m<module>\u001b[1;34m\u001b[0m\n\u001b[1;32m----> 1\u001b[1;33m \u001b[0mdiv\u001b[0m\u001b[1;33m.\u001b[0m\u001b[0mold\u001b[0m\u001b[1;33m-\u001b[0m\u001b[0mdojang\u001b[0m\u001b[1;33m\u001b[0m\u001b[1;33m\u001b[0m\u001b[0m\n\u001b[0m",
      "\u001b[1;31mNameError\u001b[0m: name 'div' is not defined"
     ]
    }
   ],
   "source": [
    "div.old-dojang"
   ]
  },
  {
   "cell_type": "code",
   "execution_count": null,
   "metadata": {},
   "outputs": [],
   "source": []
  }
 ],
 "metadata": {
  "kernelspec": {
   "display_name": "Python 3",
   "language": "python",
   "name": "python3"
  },
  "language_info": {
   "codemirror_mode": {
    "name": "ipython",
    "version": 3
   },
   "file_extension": ".py",
   "mimetype": "text/x-python",
   "name": "python",
   "nbconvert_exporter": "python",
   "pygments_lexer": "ipython3",
   "version": "3.7.3"
  }
 },
 "nbformat": 4,
 "nbformat_minor": 2
}
