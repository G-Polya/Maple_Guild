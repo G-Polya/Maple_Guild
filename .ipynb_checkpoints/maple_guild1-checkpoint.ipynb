{
 "cells": [
  {
   "cell_type": "code",
   "execution_count": 1,
   "metadata": {},
   "outputs": [],
   "source": [
    "from selenium import webdriver\n"
   ]
  },
  {
   "cell_type": "code",
   "execution_count": null,
   "metadata": {},
   "outputs": [
    {
     "name": "stdout",
     "output_type": "stream",
     "text": [
      "길드 이름을 입력하세요: 크로아\n"
     ]
    }
   ],
   "source": [
    "guild_name = input(\"길드 이름을 입력하세요: \")\n",
    "server = input(\"서버 이름을 입력하세요: \")\n",
    "level = []\n",
    "member = []\n"
   ]
  },
  {
   "cell_type": "code",
   "execution_count": null,
   "metadata": {},
   "outputs": [],
   "source": [
    "driver = webdriver.Chrome(\"chromedriver\")"
   ]
  },
  {
   "cell_type": "code",
   "execution_count": null,
   "metadata": {},
   "outputs": [],
   "source": [
    "driver.get(\"https://maple.gg/\")\n"
   ]
  },
  {
   "cell_type": "code",
   "execution_count": null,
   "metadata": {},
   "outputs": [],
   "source": [
    "search_box = driver.find_element_by_name(\"q\")"
   ]
  },
  {
   "cell_type": "code",
   "execution_count": null,
   "metadata": {},
   "outputs": [],
   "source": [
    "search_box.send_keys(guild_name)"
   ]
  },
  {
   "cell_type": "code",
   "execution_count": null,
   "metadata": {},
   "outputs": [],
   "source": [
    "search_button = driver.find_element_by_css_selector(\"i.fa-search\")\n",
    "search_button.click()"
   ]
  },
  {
   "cell_type": "code",
   "execution_count": null,
   "metadata": {},
   "outputs": [],
   "source": [
    "guilds = driver.find_elements_by_css_selector(\"div.col-12\")"
   ]
  },
  {
   "cell_type": "code",
   "execution_count": null,
   "metadata": {},
   "outputs": [],
   "source": [
    "# 이 부분 일반적이게 변경\n",
    "driver.implicitly_wait(10)\n",
    "finded_server = guilds[0].find_element_by_css_selector(\"div.search-result__item\")\n",
    "guild_server = finded_server.find_element_by_css_selector(\"b.font-size-14\").text\n",
    "\n",
    "\n",
    "if guild_server == server:\n",
    "    guild_button = driver.find_element_by_css_selector(\"div.col-12\")\n",
    "    guild_button.click()\n",
    "    driver.implicitly_wait(5)\n",
    "    numberOfMember = driver.find_elements_by_css_selector(\"div.col-lg-25 span\")\n",
    "    numberOfMember = int(numberOfMember[3].text[-4:-1])\n",
    "    \n",
    "    #길드원 container col-lg-3 col-md-6 col-sm-6 mt-4\n",
    "    guild_member = driver.find_elements_by_css_selector(\"div.col-lg-3\")\n",
    "    \n",
    "    for i in range(numberOfMember):\n",
    "        guild_member_name = guild_member[i].find_element_by_css_selector(\"div.mb-2 a.font-size-14\")\n",
    "        guild_member_level = guild_member[i].find_element_by_css_selector(\"div.mb-2 span.font-size-12\")\n",
    "        member.append(guild_member_name.text)\n",
    "        level.append(int(guild_member_level.text[-3:]))\n",
    "    \n",
    "    \n",
    "    "
   ]
  },
  {
   "cell_type": "code",
   "execution_count": null,
   "metadata": {},
   "outputs": [],
   "source": [
    "import numpy as np\n",
    "import pandas as pd\n",
    "\n",
    "guild_df = pd.DataFrame({\n",
    "    \"닉네임\" : member,\n",
    "    \"레벨\": level\n",
    "})"
   ]
  },
  {
   "cell_type": "code",
   "execution_count": null,
   "metadata": {},
   "outputs": [],
   "source": [
    "guild_df"
   ]
  },
  {
   "cell_type": "code",
   "execution_count": null,
   "metadata": {},
   "outputs": [],
   "source": [
    "guild_df.mean()"
   ]
  }
 ],
 "metadata": {
  "kernelspec": {
   "display_name": "Python 3",
   "language": "python",
   "name": "python3"
  },
  "language_info": {
   "codemirror_mode": {
    "name": "ipython",
    "version": 3
   },
   "file_extension": ".py",
   "mimetype": "text/x-python",
   "name": "python",
   "nbconvert_exporter": "python",
   "pygments_lexer": "ipython3",
   "version": "3.7.3"
  }
 },
 "nbformat": 4,
 "nbformat_minor": 2
}
