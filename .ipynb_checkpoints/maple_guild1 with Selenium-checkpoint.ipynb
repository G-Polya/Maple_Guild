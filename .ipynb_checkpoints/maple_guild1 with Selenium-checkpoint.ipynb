{
 "cells": [
  {
   "cell_type": "code",
   "execution_count": 40,
   "metadata": {},
   "outputs": [],
   "source": [
    "from selenium import webdriver\n"
   ]
  },
  {
   "cell_type": "code",
   "execution_count": 41,
   "metadata": {},
   "outputs": [],
   "source": [
    "# guild_name = input(\"길드 이름을 입력하세요: \")\n",
    "# server = input(\"서버 이름을 입력하세요: \")\n",
    "\n",
    "guild_name = \"Alpha\"\n",
    "server = \"크로아\"\n",
    "levels = []\n",
    "members = []\n",
    "dojangs = []\n",
    "jobs = []"
   ]
  },
  {
   "cell_type": "code",
   "execution_count": 42,
   "metadata": {},
   "outputs": [],
   "source": [
    "driver = webdriver.Chrome(\"chromedriver\")"
   ]
  },
  {
   "cell_type": "code",
   "execution_count": 43,
   "metadata": {},
   "outputs": [],
   "source": [
    "driver.get(\"https://maple.gg/\")\n"
   ]
  },
  {
   "cell_type": "code",
   "execution_count": 44,
   "metadata": {},
   "outputs": [],
   "source": [
    "search_box = driver.find_element_by_name(\"q\")"
   ]
  },
  {
   "cell_type": "code",
   "execution_count": 45,
   "metadata": {},
   "outputs": [],
   "source": [
    "search_box.send_keys(guild_name)"
   ]
  },
  {
   "cell_type": "code",
   "execution_count": 46,
   "metadata": {},
   "outputs": [],
   "source": [
    "search_button = driver.find_element_by_css_selector(\"i.fa-search\")\n",
    "search_button.click()"
   ]
  },
  {
   "cell_type": "code",
   "execution_count": 47,
   "metadata": {},
   "outputs": [],
   "source": [
    "guilds = driver.find_elements_by_css_selector(\"div.col-12\")"
   ]
  },
  {
   "cell_type": "code",
   "execution_count": 48,
   "metadata": {},
   "outputs": [
    {
     "name": "stdout",
     "output_type": "stream",
     "text": [
      "['비숍', 'Lv.262']\n"
     ]
    },
    {
     "ename": "NameError",
     "evalue": "name 'guild_memever_info' is not defined",
     "output_type": "error",
     "traceback": [
      "\u001b[1;31m---------------------------------------------------------------------------\u001b[0m",
      "\u001b[1;31mNameError\u001b[0m                                 Traceback (most recent call last)",
      "\u001b[1;32m<ipython-input-48-a370d48583d4>\u001b[0m in \u001b[0;36m<module>\u001b[1;34m\u001b[0m\n\u001b[0;32m     23\u001b[0m         \u001b[0mprint\u001b[0m\u001b[1;33m(\u001b[0m\u001b[0mguild_member_info\u001b[0m\u001b[1;33m)\u001b[0m\u001b[1;33m\u001b[0m\u001b[1;33m\u001b[0m\u001b[0m\n\u001b[0;32m     24\u001b[0m         \u001b[0mguild_member_job\u001b[0m \u001b[1;33m=\u001b[0m \u001b[0mguild_member_info\u001b[0m\u001b[1;33m[\u001b[0m\u001b[1;36m0\u001b[0m\u001b[1;33m]\u001b[0m\u001b[1;33m\u001b[0m\u001b[1;33m\u001b[0m\u001b[0m\n\u001b[1;32m---> 25\u001b[1;33m         \u001b[0mguild_member_leve\u001b[0m \u001b[1;33m=\u001b[0m \u001b[0mguild_memever_info\u001b[0m\u001b[1;33m[\u001b[0m\u001b[1;36m1\u001b[0m\u001b[1;33m]\u001b[0m\u001b[1;33m\u001b[0m\u001b[1;33m\u001b[0m\u001b[0m\n\u001b[0m\u001b[0;32m     26\u001b[0m         \u001b[1;31m#levels.append(int(guild_member_level.text[-3:]))\u001b[0m\u001b[1;33m\u001b[0m\u001b[1;33m\u001b[0m\u001b[1;33m\u001b[0m\u001b[0m\n\u001b[0;32m     27\u001b[0m         \u001b[1;31m#jobs.append(guild_member_level.text[:2])\u001b[0m\u001b[1;33m\u001b[0m\u001b[1;33m\u001b[0m\u001b[1;33m\u001b[0m\u001b[0m\n",
      "\u001b[1;31mNameError\u001b[0m: name 'guild_memever_info' is not defined"
     ]
    }
   ],
   "source": [
    "# 이 부분 일반적이게 변경\n",
    "driver.implicitly_wait(10)\n",
    "# guild[0]을 변경해야함. 지금은 길드중에서 첫번째 길드만을 가져옴\n",
    "finded_server = guilds[0].find_element_by_css_selector(\"div.search-result__item\")\n",
    "guild_server = finded_server.find_element_by_css_selector(\"b.font-size-14\").text\n",
    "\n",
    "\n",
    "if guild_server == server: #길드가 있는 서버와 검색한 서버가 같으면\n",
    "    guild_button = driver.find_element_by_css_selector(\"div.col-12\")\n",
    "    guild_button.click()\n",
    "    driver.implicitly_wait(5)\n",
    "    numberOfMember = driver.find_elements_by_css_selector(\"div.col-lg-25 span\")\n",
    "    numberOfMember = int(numberOfMember[3].text[-4:-1])\n",
    "    \n",
    "    #길드원 container col-lg-3 col-md-6 col-sm-6 mt-4\n",
    "    guild_member = driver.find_elements_by_css_selector(\"div.col-lg-3\")\n",
    "    \n",
    "    for i in range(numberOfMember):\n",
    "        guild_member_name = guild_member[i].find_element_by_css_selector(\"div.mb-2 a.font-size-14\")\n",
    "        guild_member_info = guild_member[i].find_element_by_css_selector(\"div.mb-2 span.font-size-12\").text.split(\"/\")\n",
    "        \n",
    "        members.append(guild_member_name.text)\n",
    "        print(guild_member_info)\n",
    "        guild_member_job = guild_member_info[0]\n",
    "        guild_member_leve = guild_memever_info[1]\n",
    "        #levels.append(int(guild_member_level.text[-3:]))\n",
    "        #jobs.append(guild_member_level.text[:2])\n",
    "        \n",
    "\n",
    "    "
   ]
  },
  {
   "cell_type": "code",
   "execution_count": null,
   "metadata": {},
   "outputs": [],
   "source": [
    "search_box = driver.find_element_by_name(\"q\")\n",
    "search_box.send_keys(members[0])\n"
   ]
  },
  {
   "cell_type": "code",
   "execution_count": null,
   "metadata": {},
   "outputs": [],
   "source": [
    "\n",
    "search_button = driver.find_element_by_css_selector(\"i.fa-search\")\n",
    "search_button.click()\n",
    "# driver.implicitly_wait(5)"
   ]
  },
  {
   "cell_type": "code",
   "execution_count": null,
   "metadata": {},
   "outputs": [],
   "source": [
    "\n",
    "member_button = driver.find_elements_by_css_selector(\"div.search-result__item\")[0]\n",
    "member_button.click()\n",
    "\n",
    "# driver.implicitly_wait(5)"
   ]
  },
  {
   "cell_type": "code",
   "execution_count": null,
   "metadata": {},
   "outputs": [],
   "source": [
    "level = int(driver.find_elements_by_css_selector(\"li.user-summary-item\")[0].text[-3:])\n",
    "level"
   ]
  },
  {
   "cell_type": "code",
   "execution_count": null,
   "metadata": {},
   "outputs": [],
   "source": [
    "job = driver.find_elements_by_css_selector(\"li.user-summary-item\")[1].text\n",
    "job"
   ]
  },
  {
   "cell_type": "code",
   "execution_count": null,
   "metadata": {},
   "outputs": [],
   "source": [
    "dojang = int(driver.find_elements_by_css_selector(\"h1.user-summary-floor\")[0].text[-4:-2])\n",
    "print(0, members[0], dojang)"
   ]
  },
  {
   "cell_type": "code",
   "execution_count": null,
   "metadata": {
    "scrolled": true
   },
   "outputs": [],
   "source": [
    "from selenium.common.exceptions import NoSuchElementException\n",
    "\n",
    "for i in range(len(members)):\n",
    "    try:\n",
    "        search_box = driver.find_element_by_name(\"q\")\n",
    "       \n",
    "        search_box.send_keys(members[i])\n",
    "    \n",
    "        search_button = driver.find_element_by_css_selector(\"i.fa-search\")\n",
    "        search_button.click()\n",
    "        driver.implicitly_wait(1)\n",
    "        \n",
    "        member_button = driver.find_elements_by_css_selector(\"div.search-result__item\")[0]\n",
    "        member_button.click()\n",
    "    \n",
    "    \n",
    "        dojang = int(driver.find_elements_by_css_selector(\"h1.user-summary-floor\")[0].text[-4:-2])\n",
    "        print(i, members[i], dojang)\n",
    "        dojangs.append(dojang)\n",
    "        \n",
    "    # 검색시 바로 캐릭터로 이동하는 경우\n",
    "    except IndexError:\n",
    "        try:\n",
    "            dojang = int(driver.find_elements_by_css_selector(\"h1.user-summary-floor\")[0].text[-4:-2])\n",
    "            print(i,members[i], dojang)\n",
    "            dojangs.append(dojang)\n",
    "        \n",
    "        # 무릉이 없는데 예전 무릉기록은 있음\n",
    "        except IndexError:\n",
    "            try:\n",
    "                dojang = int(driver.find_element_by_css_selector(\"div.old-dojang\").text[-3:-1])\n",
    "                print(i,members[i], dojang)\n",
    "                dojangs.append(dojang)\n",
    "        \n",
    "            # 무릉자체가 없음\n",
    "            except NoSuchElementException:\n",
    "                dojang = 0\n",
    "                print(i,members[i], dojang)\n",
    "                dojangs.append(dojang)\n",
    "        \n",
    "    except NoSuchElementException:\n",
    "            dojang = 0\n",
    "            print(i,members[i], dojang)\n",
    "            dojangs.append(dojang)\n",
    "        \n",
    "    \n",
    "    \n",
    "        \n",
    "        \n",
    "    \n",
    "  "
   ]
  },
  {
   "cell_type": "code",
   "execution_count": null,
   "metadata": {},
   "outputs": [],
   "source": [
    "div.old-dojang"
   ]
  },
  {
   "cell_type": "code",
   "execution_count": null,
   "metadata": {},
   "outputs": [],
   "source": []
  }
 ],
 "metadata": {
  "kernelspec": {
   "display_name": "Python 3",
   "language": "python",
   "name": "python3"
  },
  "language_info": {
   "codemirror_mode": {
    "name": "ipython",
    "version": 3
   },
   "file_extension": ".py",
   "mimetype": "text/x-python",
   "name": "python",
   "nbconvert_exporter": "python",
   "pygments_lexer": "ipython3",
   "version": "3.7.3"
  }
 },
 "nbformat": 4,
 "nbformat_minor": 2
}
